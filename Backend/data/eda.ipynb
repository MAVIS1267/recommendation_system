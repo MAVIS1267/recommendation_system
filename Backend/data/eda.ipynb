{
 "cells": [
  {
   "cell_type": "code",
   "execution_count": null,
   "metadata": {},
   "outputs": [],
   "source": [
    "import pandas as pd\n",
    "\n",
    "movies = pd.read_excel('Imdb1000_datasheet.xlsx')\n",
    "print(movies.head)"
   ]
  },
  {
   "cell_type": "code",
   "execution_count": null,
   "metadata": {},
   "outputs": [],
   "source": [
    "print(movies.dtypes)"
   ]
  },
  {
   "cell_type": "code",
   "execution_count": null,
   "metadata": {},
   "outputs": [],
   "source": [
    "#fill null value\n",
    "fillted_movie = movies[movies['keywords'].isnull()]\n",
    "fillted_movie"
   ]
  },
  {
   "cell_type": "code",
   "execution_count": null,
   "metadata": {},
   "outputs": [],
   "source": [
    "keywords_list = [\n",
    "    \"sequel\", \"reference to dance dance revolution\", \"long distance relationship\",\n",
    "    \"love\", \"kissing booth\", \"high school\", \"halloween\", \"halloween costume\",\n",
    "    \"halloween dance\", \"ghostbusters costume\", \"marshmallow costume\", \"dancing\",\n",
    "    \"pumpkin carving\", \"competition\", \"thanksgiving dinner\", \"homecoming\",\n",
    "    \"bestfriends\", \"graduation\", \"applying for college\", \"numbered sequel\",\n",
    "    \"high school senior\", \"second part\", \"male male kiss\", \"feeling\",\n",
    "    \"friendship\", \"summer\", \"2010s\", \"spit take\", \"based on novel\"\n",
    "]\n",
    "\n",
    "keywords_list = \", \".join(keywords_list)\n",
    "keywords_list"
   ]
  },
  {
   "cell_type": "code",
   "execution_count": null,
   "metadata": {},
   "outputs": [],
   "source": [
    "movies.loc[movies['id'] == 583083, 'keywords'] = keywords_list\n",
    "fillted_movie"
   ]
  },
  {
   "cell_type": "code",
   "execution_count": null,
   "metadata": {},
   "outputs": [],
   "source": [
    "fillted_movie2 = movies[movies['production_countries'].isnull()]\n",
    "fillted_movie2"
   ]
  },
  {
   "cell_type": "code",
   "execution_count": null,
   "metadata": {},
   "outputs": [],
   "source": [
    "movies.loc[movies['id'] == 27576, 'production_countries'] = 'United States of America'\n",
    "fillted_movie2"
   ]
  },
  {
   "cell_type": "code",
   "execution_count": null,
   "metadata": {},
   "outputs": [],
   "source": [
    "movies.isnull().sum()"
   ]
  },
  {
   "cell_type": "code",
   "execution_count": null,
   "metadata": {},
   "outputs": [],
   "source": [
    "movies"
   ]
  },
  {
   "cell_type": "code",
   "execution_count": 189,
   "metadata": {},
   "outputs": [],
   "source": [
    "'''\n",
    "Make combined features column\n",
    "    - Convert non-string columns to string\n",
    "    - Combine all string columns into one column (combined_features)\n",
    "    - Add space between each column in the combined_features column\n",
    "'''\n",
    "\n",
    "\n",
    "movies['vote_average'] = movies['vote_average'].astype(str)\n",
    "movies['release_date'] = movies['release_date'].astype(str)\n",
    "\n",
    "movies['combined_features'] = (\n",
    "            movies['genres'] + \" \" \n",
    "            + movies['keywords'] + \" \" \n",
    "            + movies['vote_average'] + \" \" \n",
    "            + movies['original_language'] + \" \"\n",
    "            + movies['overview'] + \" \"\n",
    "            + movies['release_date']\n",
    ")"
   ]
  },
  {
   "cell_type": "code",
   "execution_count": null,
   "metadata": {},
   "outputs": [],
   "source": [
    "'''\n",
    "Make vector tfidf: convert combined_features to vector tfidf\n",
    "    - convert ENGLISH_STOP_WORDS to list (because ENGILISH_STOP_WORDS is a frozenset)\n",
    "    - use TfidfVectorizer to convert combined_features to vector tfidf\n",
    "'''\n",
    "\n",
    "from sklearn.feature_extraction.text import TfidfVectorizer\n",
    "from sklearn.feature_extraction.text import ENGLISH_STOP_WORDS\n",
    "\n",
    "list_stopwords = list(ENGLISH_STOP_WORDS)\n",
    "tfidf = TfidfVectorizer(max_features=10000, stop_words=list_stopwords)\n",
    "\n",
    "vector = tfidf.fit_transform(movies['combined_features'])\n",
    "vector.shape"
   ]
  },
  {
   "cell_type": "code",
   "execution_count": null,
   "metadata": {},
   "outputs": [],
   "source": [
    "'''\n",
    "Compute cosine_similarity\n",
    "    - Use cosine_similarity to compute the cosine similarity between all movies (numpy array)\n",
    "'''\n",
    "\n",
    "from sklearn.metrics.pairwise import cosine_similarity\n",
    "\n",
    "cosine_sim = cosine_similarity(vector)\n",
    "cosine_sim"
   ]
  },
  {
   "cell_type": "code",
   "execution_count": 192,
   "metadata": {},
   "outputs": [],
   "source": [
    "'''\n",
    "Search movie index\n",
    "    - Create a dictionary with the movie title as the key and the movie index as the value (O(n))\n",
    "    - Create a function that searches for the movie index based on the movie title (O(1))\n",
    "'''\n",
    "\n",
    "title_index = {title.lower(): index for index, title in zip(movies.index, movies['original_title'].astype(str))}\n",
    "\n",
    "def search_movie_index(title, title_index):\n",
    "    return title_index.get(title.lower(), None)"
   ]
  },
  {
   "cell_type": "code",
   "execution_count": 193,
   "metadata": {},
   "outputs": [],
   "source": [
    "def recommend_movies(title, cosine_sim, movies, title_index, num_recommend=10   ):\n",
    "    movie_index = search_movie_index(title, title_index)\n",
    "    if movie_index is None:\n",
    "        return \"Your movie is not in our database, we will update soon!\"\n",
    "    similar_index = cosine_sim[movie_index].argsort(kind='quicksort')[-(num_recommend + 1):-1][::-1]\n",
    "    recommended_movies = movies.iloc[similar_index]['original_title']\n",
    "\n",
    "    return recommended_movies"
   ]
  },
  {
   "cell_type": "code",
   "execution_count": null,
   "metadata": {},
   "outputs": [],
   "source": [
    "recommend_movies('The Dark Knight', cosine_sim, movies, title_index)"
   ]
  },
  {
   "cell_type": "code",
   "execution_count": null,
   "metadata": {},
   "outputs": [],
   "source": [
    "import pickle\n",
    "\n",
    "pickle.dump(cosine_sim, open('cosine_sim.pkl', 'wb'))\n",
    "pickle.dump(title_index, open('title_index.pkl', 'wb'))\n",
    "pickle.dump(movies, open('movies.pkl', 'wb'))"
   ]
  }
 ],
 "metadata": {
  "kernelspec": {
   "display_name": ".venv",
   "language": "python",
   "name": "python3"
  },
  "language_info": {
   "codemirror_mode": {
    "name": "ipython",
    "version": 3
   },
   "file_extension": ".py",
   "mimetype": "text/x-python",
   "name": "python",
   "nbconvert_exporter": "python",
   "pygments_lexer": "ipython3",
   "version": "3.11.11"
  }
 },
 "nbformat": 4,
 "nbformat_minor": 2
}
